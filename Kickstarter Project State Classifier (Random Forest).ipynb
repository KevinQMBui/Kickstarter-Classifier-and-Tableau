{
 "cells": [
  {
   "cell_type": "markdown",
   "metadata": {},
   "source": [
    "[Kickstarter Projects Dataset](https://www.kaggle.com/kemical/kickstarter-projects)"
   ]
  },
  {
   "cell_type": "markdown",
   "metadata": {},
   "source": [
    "* **Goal:** Create a machine learning model that can accurately classify the state (failed, succeeded, cancelled, live, undefined, or suspended) of a Kickstarter project"
   ]
  },
  {
   "cell_type": "markdown",
   "metadata": {},
   "source": [
    "# Imports"
   ]
  },
  {
   "cell_type": "code",
   "execution_count": 1,
   "metadata": {},
   "outputs": [],
   "source": [
    "import numpy as np\n",
    "import pandas as pd\n",
    "import matplotlib.pyplot as plt\n",
    "import seaborn as sns\n",
    "sns.set_style('whitegrid')\n",
    "sns.set_palette('husl')\n",
    "%matplotlib inline"
   ]
  },
  {
   "cell_type": "code",
   "execution_count": 2,
   "metadata": {},
   "outputs": [],
   "source": [
    "import warnings\n",
    "warnings.filterwarnings(\"ignore\")"
   ]
  },
  {
   "cell_type": "markdown",
   "metadata": {},
   "source": [
    "# Data Cleaning"
   ]
  },
  {
   "cell_type": "code",
   "execution_count": 3,
   "metadata": {},
   "outputs": [
    {
     "data": {
      "text/html": [
       "<div>\n",
       "<style scoped>\n",
       "    .dataframe tbody tr th:only-of-type {\n",
       "        vertical-align: middle;\n",
       "    }\n",
       "\n",
       "    .dataframe tbody tr th {\n",
       "        vertical-align: top;\n",
       "    }\n",
       "\n",
       "    .dataframe thead th {\n",
       "        text-align: right;\n",
       "    }\n",
       "</style>\n",
       "<table border=\"1\" class=\"dataframe\">\n",
       "  <thead>\n",
       "    <tr style=\"text-align: right;\">\n",
       "      <th></th>\n",
       "      <th>ID</th>\n",
       "      <th>name</th>\n",
       "      <th>category</th>\n",
       "      <th>main_category</th>\n",
       "      <th>currency</th>\n",
       "      <th>deadline</th>\n",
       "      <th>goal</th>\n",
       "      <th>launched</th>\n",
       "      <th>pledged</th>\n",
       "      <th>state</th>\n",
       "      <th>backers</th>\n",
       "      <th>country</th>\n",
       "      <th>usd pledged</th>\n",
       "    </tr>\n",
       "  </thead>\n",
       "  <tbody>\n",
       "    <tr>\n",
       "      <td>0</td>\n",
       "      <td>1000002330</td>\n",
       "      <td>The Songs of Adelaide &amp; Abullah</td>\n",
       "      <td>Poetry</td>\n",
       "      <td>Publishing</td>\n",
       "      <td>GBP</td>\n",
       "      <td>2015-10-09 11:36:00</td>\n",
       "      <td>1000</td>\n",
       "      <td>2015-08-11 12:12:28</td>\n",
       "      <td>0</td>\n",
       "      <td>failed</td>\n",
       "      <td>0</td>\n",
       "      <td>GB</td>\n",
       "      <td>0</td>\n",
       "    </tr>\n",
       "    <tr>\n",
       "      <td>1</td>\n",
       "      <td>1000004038</td>\n",
       "      <td>Where is Hank?</td>\n",
       "      <td>Narrative Film</td>\n",
       "      <td>Film &amp; Video</td>\n",
       "      <td>USD</td>\n",
       "      <td>2013-02-26 00:20:50</td>\n",
       "      <td>45000</td>\n",
       "      <td>2013-01-12 00:20:50</td>\n",
       "      <td>220</td>\n",
       "      <td>failed</td>\n",
       "      <td>3</td>\n",
       "      <td>US</td>\n",
       "      <td>220</td>\n",
       "    </tr>\n",
       "    <tr>\n",
       "      <td>2</td>\n",
       "      <td>1000007540</td>\n",
       "      <td>ToshiCapital Rekordz Needs Help to Complete Album</td>\n",
       "      <td>Music</td>\n",
       "      <td>Music</td>\n",
       "      <td>USD</td>\n",
       "      <td>2012-04-16 04:24:11</td>\n",
       "      <td>5000</td>\n",
       "      <td>2012-03-17 03:24:11</td>\n",
       "      <td>1</td>\n",
       "      <td>failed</td>\n",
       "      <td>1</td>\n",
       "      <td>US</td>\n",
       "      <td>1</td>\n",
       "    </tr>\n",
       "    <tr>\n",
       "      <td>3</td>\n",
       "      <td>1000011046</td>\n",
       "      <td>Community Film Project: The Art of Neighborhoo...</td>\n",
       "      <td>Film &amp; Video</td>\n",
       "      <td>Film &amp; Video</td>\n",
       "      <td>USD</td>\n",
       "      <td>2015-08-29 01:00:00</td>\n",
       "      <td>19500</td>\n",
       "      <td>2015-07-04 08:35:03</td>\n",
       "      <td>1283</td>\n",
       "      <td>canceled</td>\n",
       "      <td>14</td>\n",
       "      <td>US</td>\n",
       "      <td>1283</td>\n",
       "    </tr>\n",
       "    <tr>\n",
       "      <td>4</td>\n",
       "      <td>1000014025</td>\n",
       "      <td>Monarch Espresso Bar</td>\n",
       "      <td>Restaurants</td>\n",
       "      <td>Food</td>\n",
       "      <td>USD</td>\n",
       "      <td>2016-04-01 13:38:27</td>\n",
       "      <td>50000</td>\n",
       "      <td>2016-02-26 13:38:27</td>\n",
       "      <td>52375</td>\n",
       "      <td>successful</td>\n",
       "      <td>224</td>\n",
       "      <td>US</td>\n",
       "      <td>52375</td>\n",
       "    </tr>\n",
       "  </tbody>\n",
       "</table>\n",
       "</div>"
      ],
      "text/plain": [
       "           ID                                               name  \\\n",
       "0  1000002330                    The Songs of Adelaide & Abullah   \n",
       "1  1000004038                                     Where is Hank?   \n",
       "2  1000007540  ToshiCapital Rekordz Needs Help to Complete Album   \n",
       "3  1000011046  Community Film Project: The Art of Neighborhoo...   \n",
       "4  1000014025                               Monarch Espresso Bar   \n",
       "\n",
       "         category main_category currency             deadline   goal  \\\n",
       "0          Poetry    Publishing      GBP  2015-10-09 11:36:00   1000   \n",
       "1  Narrative Film  Film & Video      USD  2013-02-26 00:20:50  45000   \n",
       "2           Music         Music      USD  2012-04-16 04:24:11   5000   \n",
       "3    Film & Video  Film & Video      USD  2015-08-29 01:00:00  19500   \n",
       "4     Restaurants          Food      USD  2016-04-01 13:38:27  50000   \n",
       "\n",
       "              launched pledged       state backers country usd pledged  \n",
       "0  2015-08-11 12:12:28       0      failed       0      GB           0  \n",
       "1  2013-01-12 00:20:50     220      failed       3      US         220  \n",
       "2  2012-03-17 03:24:11       1      failed       1      US           1  \n",
       "3  2015-07-04 08:35:03    1283    canceled      14      US        1283  \n",
       "4  2016-02-26 13:38:27   52375  successful     224      US       52375  "
      ]
     },
     "execution_count": 3,
     "metadata": {},
     "output_type": "execute_result"
    }
   ],
   "source": [
    "ks = pd.read_csv('ks-projects-201612.csv',engine='python')\n",
    "ks = ks.drop(['Unnamed: 13','Unnamed: 14','Unnamed: 15','Unnamed: 16'],axis=1)\n",
    "ks.columns = ks.columns.str.strip() #removes white space at both ends\n",
    "ks.head()"
   ]
  },
  {
   "cell_type": "code",
   "execution_count": 4,
   "metadata": {},
   "outputs": [
    {
     "name": "stdout",
     "output_type": "stream",
     "text": [
      "<class 'pandas.core.frame.DataFrame'>\n",
      "RangeIndex: 323750 entries, 0 to 323749\n",
      "Data columns (total 13 columns):\n",
      "ID               323750 non-null int64\n",
      "name             323746 non-null object\n",
      "category         323745 non-null object\n",
      "main_category    323750 non-null object\n",
      "currency         323750 non-null object\n",
      "deadline         323750 non-null object\n",
      "goal             323750 non-null object\n",
      "launched         323750 non-null object\n",
      "pledged          323750 non-null object\n",
      "state            323750 non-null object\n",
      "backers          323750 non-null object\n",
      "country          323750 non-null object\n",
      "usd pledged      319960 non-null object\n",
      "dtypes: int64(1), object(12)\n",
      "memory usage: 32.1+ MB\n"
     ]
    }
   ],
   "source": [
    "ks.info()"
   ]
  },
  {
   "cell_type": "code",
   "execution_count": 5,
   "metadata": {},
   "outputs": [
    {
     "data": {
      "text/plain": [
       "0"
      ]
     },
     "execution_count": 5,
     "metadata": {},
     "output_type": "execute_result"
    }
   ],
   "source": [
    "# Checking for duplicated values\n",
    "ks.duplicated().sum()"
   ]
  },
  {
   "cell_type": "code",
   "execution_count": 6,
   "metadata": {},
   "outputs": [
    {
     "data": {
      "text/plain": [
       "ID                  0\n",
       "name                4\n",
       "category            5\n",
       "main_category       0\n",
       "currency            0\n",
       "deadline            0\n",
       "goal                0\n",
       "launched            0\n",
       "pledged             0\n",
       "state               0\n",
       "backers             0\n",
       "country             0\n",
       "usd pledged      3790\n",
       "dtype: int64"
      ]
     },
     "execution_count": 6,
     "metadata": {},
     "output_type": "execute_result"
    }
   ],
   "source": [
    "# Checking for null values\n",
    "ks.isnull().sum()"
   ]
  },
  {
   "cell_type": "code",
   "execution_count": 7,
   "metadata": {},
   "outputs": [
    {
     "data": {
      "text/plain": [
       "ID               0.000000\n",
       "name             0.001236\n",
       "category         0.001544\n",
       "main_category    0.000000\n",
       "currency         0.000000\n",
       "deadline         0.000000\n",
       "goal             0.000000\n",
       "launched         0.000000\n",
       "pledged          0.000000\n",
       "state            0.000000\n",
       "backers          0.000000\n",
       "country          0.000000\n",
       "usd pledged      1.170656\n",
       "dtype: float64"
      ]
     },
     "execution_count": 7,
     "metadata": {},
     "output_type": "execute_result"
    }
   ],
   "source": [
    "# Null values in percentage\n",
    "100*(ks.isnull().sum()/len(ks.index))"
   ]
  },
  {
   "cell_type": "code",
   "execution_count": 8,
   "metadata": {},
   "outputs": [
    {
     "data": {
      "text/plain": [
       "ID                  0\n",
       "name                0\n",
       "category            0\n",
       "main_category       0\n",
       "currency            0\n",
       "deadline            0\n",
       "goal                0\n",
       "launched            0\n",
       "pledged             0\n",
       "state               0\n",
       "backers             0\n",
       "country             0\n",
       "usd pledged      3790\n",
       "dtype: int64"
      ]
     },
     "execution_count": 8,
     "metadata": {},
     "output_type": "execute_result"
    }
   ],
   "source": [
    "ks = ks.dropna(subset=['name','category'],how='any')\n",
    "ks.isnull().sum()"
   ]
  },
  {
   "cell_type": "code",
   "execution_count": 9,
   "metadata": {},
   "outputs": [
    {
     "data": {
      "text/plain": [
       "ID                  0\n",
       "name                0\n",
       "category            0\n",
       "main_category       0\n",
       "currency            0\n",
       "deadline            0\n",
       "goal              627\n",
       "launched            0\n",
       "pledged           619\n",
       "state               0\n",
       "backers           618\n",
       "country             0\n",
       "usd pledged      4408\n",
       "dtype: int64"
      ]
     },
     "execution_count": 9,
     "metadata": {},
     "output_type": "execute_result"
    }
   ],
   "source": [
    "# Turning numerical columns to proper object type (string to integer or float)\n",
    "ks['goal'] = pd.to_numeric(ks['goal'],errors='coerce')\n",
    "ks['pledged'] = pd.to_numeric(ks['pledged'],errors='coerce')\n",
    "ks['backers'] = pd.to_numeric(ks['backers'],errors='coerce')\n",
    "ks['usd pledged'] = pd.to_numeric(ks['usd pledged'],errors='coerce')\n",
    "ks.isnull().sum()"
   ]
  },
  {
   "cell_type": "code",
   "execution_count": 10,
   "metadata": {},
   "outputs": [
    {
     "data": {
      "text/html": [
       "<div>\n",
       "<style scoped>\n",
       "    .dataframe tbody tr th:only-of-type {\n",
       "        vertical-align: middle;\n",
       "    }\n",
       "\n",
       "    .dataframe tbody tr th {\n",
       "        vertical-align: top;\n",
       "    }\n",
       "\n",
       "    .dataframe thead th {\n",
       "        text-align: right;\n",
       "    }\n",
       "</style>\n",
       "<table border=\"1\" class=\"dataframe\">\n",
       "  <thead>\n",
       "    <tr style=\"text-align: right;\">\n",
       "      <th></th>\n",
       "      <th>ID</th>\n",
       "      <th>goal</th>\n",
       "      <th>pledged</th>\n",
       "      <th>backers</th>\n",
       "      <th>usd pledged</th>\n",
       "    </tr>\n",
       "  </thead>\n",
       "  <tbody>\n",
       "    <tr>\n",
       "      <td>count</td>\n",
       "      <td>3.237410e+05</td>\n",
       "      <td>3.231140e+05</td>\n",
       "      <td>3.231220e+05</td>\n",
       "      <td>323123.000000</td>\n",
       "      <td>3.193330e+05</td>\n",
       "    </tr>\n",
       "    <tr>\n",
       "      <td>mean</td>\n",
       "      <td>1.074945e+09</td>\n",
       "      <td>4.715236e+04</td>\n",
       "      <td>8.697013e+03</td>\n",
       "      <td>101.912566</td>\n",
       "      <td>7.847557e+03</td>\n",
       "    </tr>\n",
       "    <tr>\n",
       "      <td>std</td>\n",
       "      <td>6.193376e+08</td>\n",
       "      <td>1.139584e+06</td>\n",
       "      <td>8.958594e+04</td>\n",
       "      <td>947.790901</td>\n",
       "      <td>8.468339e+04</td>\n",
       "    </tr>\n",
       "    <tr>\n",
       "      <td>min</td>\n",
       "      <td>5.971000e+03</td>\n",
       "      <td>1.000000e-02</td>\n",
       "      <td>0.000000e+00</td>\n",
       "      <td>0.000000</td>\n",
       "      <td>0.000000e+00</td>\n",
       "    </tr>\n",
       "    <tr>\n",
       "      <td>25%</td>\n",
       "      <td>5.375727e+08</td>\n",
       "      <td>2.000000e+03</td>\n",
       "      <td>3.000000e+01</td>\n",
       "      <td>2.000000</td>\n",
       "      <td>2.500000e+01</td>\n",
       "    </tr>\n",
       "    <tr>\n",
       "      <td>50%</td>\n",
       "      <td>1.075821e+09</td>\n",
       "      <td>5.000000e+03</td>\n",
       "      <td>6.100000e+02</td>\n",
       "      <td>12.000000</td>\n",
       "      <td>5.350000e+02</td>\n",
       "    </tr>\n",
       "    <tr>\n",
       "      <td>75%</td>\n",
       "      <td>1.611082e+09</td>\n",
       "      <td>1.500000e+04</td>\n",
       "      <td>3.938930e+03</td>\n",
       "      <td>55.000000</td>\n",
       "      <td>3.574872e+03</td>\n",
       "    </tr>\n",
       "    <tr>\n",
       "      <td>max</td>\n",
       "      <td>2.147476e+09</td>\n",
       "      <td>1.000000e+08</td>\n",
       "      <td>2.033899e+07</td>\n",
       "      <td>219382.000000</td>\n",
       "      <td>2.033899e+07</td>\n",
       "    </tr>\n",
       "  </tbody>\n",
       "</table>\n",
       "</div>"
      ],
      "text/plain": [
       "                 ID          goal       pledged        backers   usd pledged\n",
       "count  3.237410e+05  3.231140e+05  3.231220e+05  323123.000000  3.193330e+05\n",
       "mean   1.074945e+09  4.715236e+04  8.697013e+03     101.912566  7.847557e+03\n",
       "std    6.193376e+08  1.139584e+06  8.958594e+04     947.790901  8.468339e+04\n",
       "min    5.971000e+03  1.000000e-02  0.000000e+00       0.000000  0.000000e+00\n",
       "25%    5.375727e+08  2.000000e+03  3.000000e+01       2.000000  2.500000e+01\n",
       "50%    1.075821e+09  5.000000e+03  6.100000e+02      12.000000  5.350000e+02\n",
       "75%    1.611082e+09  1.500000e+04  3.938930e+03      55.000000  3.574872e+03\n",
       "max    2.147476e+09  1.000000e+08  2.033899e+07  219382.000000  2.033899e+07"
      ]
     },
     "execution_count": 10,
     "metadata": {},
     "output_type": "execute_result"
    }
   ],
   "source": [
    "ks.describe()"
   ]
  },
  {
   "cell_type": "code",
   "execution_count": 11,
   "metadata": {},
   "outputs": [
    {
     "data": {
      "text/plain": [
       "ID               0\n",
       "name             0\n",
       "category         0\n",
       "main_category    0\n",
       "currency         0\n",
       "deadline         0\n",
       "goal             0\n",
       "launched         0\n",
       "pledged          0\n",
       "state            0\n",
       "backers          0\n",
       "country          0\n",
       "usd pledged      0\n",
       "dtype: int64"
      ]
     },
     "execution_count": 11,
     "metadata": {},
     "output_type": "execute_result"
    }
   ],
   "source": [
    "# Mean imputation to fill remaining missing values for numerical columns\n",
    "ks['goal'] = ks['goal'].fillna(value=ks['goal'].mean())\n",
    "ks['pledged'] = ks['pledged'].fillna(value=ks['pledged'].mean())\n",
    "ks['backers'] = ks['backers'].fillna(value=ks['backers'].mean())\n",
    "ks['usd pledged'] = ks['usd pledged'].fillna(value=ks['usd pledged'].mean())\n",
    "ks.isnull().sum()"
   ]
  },
  {
   "cell_type": "code",
   "execution_count": 12,
   "metadata": {},
   "outputs": [],
   "source": [
    "# Turning 'backers' to int because that column being float makes no sense\n",
    "ks['backers'] = ks['backers'].astype(int)"
   ]
  },
  {
   "cell_type": "code",
   "execution_count": 13,
   "metadata": {
    "scrolled": true
   },
   "outputs": [
    {
     "data": {
      "text/plain": [
       "ID                 0\n",
       "name               0\n",
       "category           0\n",
       "main_category      0\n",
       "currency           0\n",
       "deadline         627\n",
       "goal               0\n",
       "launched         580\n",
       "pledged            0\n",
       "state              0\n",
       "backers            0\n",
       "country            0\n",
       "usd pledged        0\n",
       "dtype: int64"
      ]
     },
     "execution_count": 13,
     "metadata": {},
     "output_type": "execute_result"
    }
   ],
   "source": [
    "# Want to convert dates to datetime to use months and years later\n",
    "ks['deadline'] = pd.to_datetime(ks['deadline'],errors='coerce',format='%Y-%m-%d %H:%M:%S')\n",
    "ks['launched'] = pd.to_datetime(ks['launched'],errors='coerce',format='%Y-%m-%d %H:%M:%S')\n",
    "ks.isnull().sum()"
   ]
  },
  {
   "cell_type": "code",
   "execution_count": 14,
   "metadata": {},
   "outputs": [
    {
     "data": {
      "text/plain": [
       "ID               0\n",
       "name             0\n",
       "category         0\n",
       "main_category    0\n",
       "currency         0\n",
       "deadline         0\n",
       "goal             0\n",
       "launched         0\n",
       "pledged          0\n",
       "state            0\n",
       "backers          0\n",
       "country          0\n",
       "usd pledged      0\n",
       "dtype: int64"
      ]
     },
     "execution_count": 14,
     "metadata": {},
     "output_type": "execute_result"
    }
   ],
   "source": [
    "ks = ks.dropna(subset=['deadline','launched'],how='any')\n",
    "ks.isnull().sum()"
   ]
  },
  {
   "cell_type": "code",
   "execution_count": 15,
   "metadata": {},
   "outputs": [
    {
     "name": "stdout",
     "output_type": "stream",
     "text": [
      "<class 'pandas.core.frame.DataFrame'>\n",
      "Int64Index: 323114 entries, 0 to 323749\n",
      "Data columns (total 13 columns):\n",
      "ID               323114 non-null int64\n",
      "name             323114 non-null object\n",
      "category         323114 non-null object\n",
      "main_category    323114 non-null object\n",
      "currency         323114 non-null object\n",
      "deadline         323114 non-null datetime64[ns]\n",
      "goal             323114 non-null float64\n",
      "launched         323114 non-null datetime64[ns]\n",
      "pledged          323114 non-null float64\n",
      "state            323114 non-null object\n",
      "backers          323114 non-null int64\n",
      "country          323114 non-null object\n",
      "usd pledged      323114 non-null float64\n",
      "dtypes: datetime64[ns](2), float64(3), int64(2), object(6)\n",
      "memory usage: 34.5+ MB\n"
     ]
    }
   ],
   "source": [
    "# Finally cleaned up and updated everything!\n",
    "ks.info()"
   ]
  },
  {
   "cell_type": "code",
   "execution_count": 16,
   "metadata": {},
   "outputs": [],
   "source": [
    "# Exporting as CSV to use in other tools like Tableau, Excel, etc.\n",
    "ks.to_csv('kickstarter_clean.csv')"
   ]
  },
  {
   "cell_type": "markdown",
   "metadata": {},
   "source": [
    "# Data Setup 1"
   ]
  },
  {
   "cell_type": "code",
   "execution_count": 17,
   "metadata": {},
   "outputs": [
    {
     "data": {
      "text/html": [
       "<div>\n",
       "<style scoped>\n",
       "    .dataframe tbody tr th:only-of-type {\n",
       "        vertical-align: middle;\n",
       "    }\n",
       "\n",
       "    .dataframe tbody tr th {\n",
       "        vertical-align: top;\n",
       "    }\n",
       "\n",
       "    .dataframe thead th {\n",
       "        text-align: right;\n",
       "    }\n",
       "</style>\n",
       "<table border=\"1\" class=\"dataframe\">\n",
       "  <thead>\n",
       "    <tr style=\"text-align: right;\">\n",
       "      <th></th>\n",
       "      <th>ID</th>\n",
       "      <th>name</th>\n",
       "      <th>category</th>\n",
       "      <th>main_category</th>\n",
       "      <th>currency</th>\n",
       "      <th>deadline</th>\n",
       "      <th>goal</th>\n",
       "      <th>launched</th>\n",
       "      <th>pledged</th>\n",
       "      <th>state</th>\n",
       "      <th>backers</th>\n",
       "      <th>country</th>\n",
       "      <th>usd pledged</th>\n",
       "    </tr>\n",
       "  </thead>\n",
       "  <tbody>\n",
       "    <tr>\n",
       "      <td>0</td>\n",
       "      <td>1000002330</td>\n",
       "      <td>The Songs of Adelaide &amp; Abullah</td>\n",
       "      <td>Poetry</td>\n",
       "      <td>Publishing</td>\n",
       "      <td>GBP</td>\n",
       "      <td>2015-10-09 11:36:00</td>\n",
       "      <td>1000.0</td>\n",
       "      <td>2015-08-11 12:12:28</td>\n",
       "      <td>0.0</td>\n",
       "      <td>failed</td>\n",
       "      <td>0</td>\n",
       "      <td>GB</td>\n",
       "      <td>0.0</td>\n",
       "    </tr>\n",
       "    <tr>\n",
       "      <td>1</td>\n",
       "      <td>1000004038</td>\n",
       "      <td>Where is Hank?</td>\n",
       "      <td>Narrative Film</td>\n",
       "      <td>Film &amp; Video</td>\n",
       "      <td>USD</td>\n",
       "      <td>2013-02-26 00:20:50</td>\n",
       "      <td>45000.0</td>\n",
       "      <td>2013-01-12 00:20:50</td>\n",
       "      <td>220.0</td>\n",
       "      <td>failed</td>\n",
       "      <td>3</td>\n",
       "      <td>US</td>\n",
       "      <td>220.0</td>\n",
       "    </tr>\n",
       "    <tr>\n",
       "      <td>2</td>\n",
       "      <td>1000007540</td>\n",
       "      <td>ToshiCapital Rekordz Needs Help to Complete Album</td>\n",
       "      <td>Music</td>\n",
       "      <td>Music</td>\n",
       "      <td>USD</td>\n",
       "      <td>2012-04-16 04:24:11</td>\n",
       "      <td>5000.0</td>\n",
       "      <td>2012-03-17 03:24:11</td>\n",
       "      <td>1.0</td>\n",
       "      <td>failed</td>\n",
       "      <td>1</td>\n",
       "      <td>US</td>\n",
       "      <td>1.0</td>\n",
       "    </tr>\n",
       "    <tr>\n",
       "      <td>3</td>\n",
       "      <td>1000011046</td>\n",
       "      <td>Community Film Project: The Art of Neighborhoo...</td>\n",
       "      <td>Film &amp; Video</td>\n",
       "      <td>Film &amp; Video</td>\n",
       "      <td>USD</td>\n",
       "      <td>2015-08-29 01:00:00</td>\n",
       "      <td>19500.0</td>\n",
       "      <td>2015-07-04 08:35:03</td>\n",
       "      <td>1283.0</td>\n",
       "      <td>canceled</td>\n",
       "      <td>14</td>\n",
       "      <td>US</td>\n",
       "      <td>1283.0</td>\n",
       "    </tr>\n",
       "    <tr>\n",
       "      <td>4</td>\n",
       "      <td>1000014025</td>\n",
       "      <td>Monarch Espresso Bar</td>\n",
       "      <td>Restaurants</td>\n",
       "      <td>Food</td>\n",
       "      <td>USD</td>\n",
       "      <td>2016-04-01 13:38:27</td>\n",
       "      <td>50000.0</td>\n",
       "      <td>2016-02-26 13:38:27</td>\n",
       "      <td>52375.0</td>\n",
       "      <td>successful</td>\n",
       "      <td>224</td>\n",
       "      <td>US</td>\n",
       "      <td>52375.0</td>\n",
       "    </tr>\n",
       "  </tbody>\n",
       "</table>\n",
       "</div>"
      ],
      "text/plain": [
       "           ID                                               name  \\\n",
       "0  1000002330                    The Songs of Adelaide & Abullah   \n",
       "1  1000004038                                     Where is Hank?   \n",
       "2  1000007540  ToshiCapital Rekordz Needs Help to Complete Album   \n",
       "3  1000011046  Community Film Project: The Art of Neighborhoo...   \n",
       "4  1000014025                               Monarch Espresso Bar   \n",
       "\n",
       "         category main_category currency            deadline     goal  \\\n",
       "0          Poetry    Publishing      GBP 2015-10-09 11:36:00   1000.0   \n",
       "1  Narrative Film  Film & Video      USD 2013-02-26 00:20:50  45000.0   \n",
       "2           Music         Music      USD 2012-04-16 04:24:11   5000.0   \n",
       "3    Film & Video  Film & Video      USD 2015-08-29 01:00:00  19500.0   \n",
       "4     Restaurants          Food      USD 2016-04-01 13:38:27  50000.0   \n",
       "\n",
       "             launched  pledged       state  backers country  usd pledged  \n",
       "0 2015-08-11 12:12:28      0.0      failed        0      GB          0.0  \n",
       "1 2013-01-12 00:20:50    220.0      failed        3      US        220.0  \n",
       "2 2012-03-17 03:24:11      1.0      failed        1      US          1.0  \n",
       "3 2015-07-04 08:35:03   1283.0    canceled       14      US       1283.0  \n",
       "4 2016-02-26 13:38:27  52375.0  successful      224      US      52375.0  "
      ]
     },
     "execution_count": 17,
     "metadata": {},
     "output_type": "execute_result"
    }
   ],
   "source": [
    "ks.head()"
   ]
  },
  {
   "cell_type": "code",
   "execution_count": 18,
   "metadata": {},
   "outputs": [
    {
     "data": {
      "text/plain": [
       "failed        168218\n",
       "successful    113081\n",
       "canceled       32354\n",
       "live            4428\n",
       "undefined       3555\n",
       "suspended       1478\n",
       "Name: state, dtype: int64"
      ]
     },
     "execution_count": 18,
     "metadata": {},
     "output_type": "execute_result"
    }
   ],
   "source": [
    "ks['state'].value_counts()"
   ]
  },
  {
   "cell_type": "code",
   "execution_count": 19,
   "metadata": {
    "scrolled": true
   },
   "outputs": [],
   "source": [
    "# ONLY IF YOU WANT TO SPECIFY FAIL OR SUCCESS\n",
    "#ks = ks[(ks['state'] == 'failed') | (ks['state'] == 'successful')]\n",
    "#ks.head()"
   ]
  },
  {
   "cell_type": "code",
   "execution_count": 20,
   "metadata": {},
   "outputs": [
    {
     "data": {
      "text/plain": [
       "failed        168218\n",
       "successful    113081\n",
       "canceled       32354\n",
       "live            4428\n",
       "undefined       3555\n",
       "suspended       1478\n",
       "Name: state, dtype: int64"
      ]
     },
     "execution_count": 20,
     "metadata": {},
     "output_type": "execute_result"
    }
   ],
   "source": [
    "ks['state'].value_counts()"
   ]
  },
  {
   "cell_type": "code",
   "execution_count": 21,
   "metadata": {},
   "outputs": [
    {
     "data": {
      "text/plain": [
       "7     32084\n",
       "10    28746\n",
       "3     28645\n",
       "11    28170\n",
       "6     28053\n",
       "5     28028\n",
       "8     27881\n",
       "4     27824\n",
       "9     26928\n",
       "2     25653\n",
       "1     23214\n",
       "12    17888\n",
       "Name: month launched, dtype: int64"
      ]
     },
     "execution_count": 21,
     "metadata": {},
     "output_type": "execute_result"
    }
   ],
   "source": [
    "# what month the project started\n",
    "ks['month launched'] = ks['launched'].apply(lambda x: x.month)\n",
    "ks['month launched'].value_counts()"
   ]
  },
  {
   "cell_type": "code",
   "execution_count": 22,
   "metadata": {},
   "outputs": [
    {
     "data": {
      "text/plain": [
       "30       136012\n",
       "60        25581\n",
       "29        16856\n",
       "45        14394\n",
       "31         9118\n",
       "          ...  \n",
       "14733         1\n",
       "14761         1\n",
       "16739         1\n",
       "14867         1\n",
       "14835         1\n",
       "Name: total days, Length: 99, dtype: int64"
      ]
     },
     "execution_count": 22,
     "metadata": {},
     "output_type": "execute_result"
    }
   ],
   "source": [
    "# total days in-between\n",
    "ks['total days'] = ((ks.deadline - ks.launched)/np.timedelta64(1, 'D'))\n",
    "ks['total days'] = ks['total days'].astype(int)\n",
    "ks['total days'].value_counts()"
   ]
  },
  {
   "cell_type": "code",
   "execution_count": 23,
   "metadata": {},
   "outputs": [
    {
     "data": {
      "text/html": [
       "<div>\n",
       "<style scoped>\n",
       "    .dataframe tbody tr th:only-of-type {\n",
       "        vertical-align: middle;\n",
       "    }\n",
       "\n",
       "    .dataframe tbody tr th {\n",
       "        vertical-align: top;\n",
       "    }\n",
       "\n",
       "    .dataframe thead th {\n",
       "        text-align: right;\n",
       "    }\n",
       "</style>\n",
       "<table border=\"1\" class=\"dataframe\">\n",
       "  <thead>\n",
       "    <tr style=\"text-align: right;\">\n",
       "      <th></th>\n",
       "      <th>ID</th>\n",
       "      <th>name</th>\n",
       "      <th>category</th>\n",
       "      <th>main_category</th>\n",
       "      <th>currency</th>\n",
       "      <th>deadline</th>\n",
       "      <th>goal</th>\n",
       "      <th>launched</th>\n",
       "      <th>pledged</th>\n",
       "      <th>state</th>\n",
       "      <th>backers</th>\n",
       "      <th>country</th>\n",
       "      <th>usd pledged</th>\n",
       "      <th>month launched</th>\n",
       "      <th>total days</th>\n",
       "    </tr>\n",
       "  </thead>\n",
       "  <tbody>\n",
       "    <tr>\n",
       "      <td>0</td>\n",
       "      <td>1000002330</td>\n",
       "      <td>The Songs of Adelaide &amp; Abullah</td>\n",
       "      <td>Poetry</td>\n",
       "      <td>Publishing</td>\n",
       "      <td>GBP</td>\n",
       "      <td>2015-10-09 11:36:00</td>\n",
       "      <td>1000.0</td>\n",
       "      <td>2015-08-11 12:12:28</td>\n",
       "      <td>0.0</td>\n",
       "      <td>failed</td>\n",
       "      <td>0</td>\n",
       "      <td>GB</td>\n",
       "      <td>0.0</td>\n",
       "      <td>8</td>\n",
       "      <td>58</td>\n",
       "    </tr>\n",
       "    <tr>\n",
       "      <td>1</td>\n",
       "      <td>1000004038</td>\n",
       "      <td>Where is Hank?</td>\n",
       "      <td>Narrative Film</td>\n",
       "      <td>Film &amp; Video</td>\n",
       "      <td>USD</td>\n",
       "      <td>2013-02-26 00:20:50</td>\n",
       "      <td>45000.0</td>\n",
       "      <td>2013-01-12 00:20:50</td>\n",
       "      <td>220.0</td>\n",
       "      <td>failed</td>\n",
       "      <td>3</td>\n",
       "      <td>US</td>\n",
       "      <td>220.0</td>\n",
       "      <td>1</td>\n",
       "      <td>45</td>\n",
       "    </tr>\n",
       "    <tr>\n",
       "      <td>2</td>\n",
       "      <td>1000007540</td>\n",
       "      <td>ToshiCapital Rekordz Needs Help to Complete Album</td>\n",
       "      <td>Music</td>\n",
       "      <td>Music</td>\n",
       "      <td>USD</td>\n",
       "      <td>2012-04-16 04:24:11</td>\n",
       "      <td>5000.0</td>\n",
       "      <td>2012-03-17 03:24:11</td>\n",
       "      <td>1.0</td>\n",
       "      <td>failed</td>\n",
       "      <td>1</td>\n",
       "      <td>US</td>\n",
       "      <td>1.0</td>\n",
       "      <td>3</td>\n",
       "      <td>30</td>\n",
       "    </tr>\n",
       "    <tr>\n",
       "      <td>3</td>\n",
       "      <td>1000011046</td>\n",
       "      <td>Community Film Project: The Art of Neighborhoo...</td>\n",
       "      <td>Film &amp; Video</td>\n",
       "      <td>Film &amp; Video</td>\n",
       "      <td>USD</td>\n",
       "      <td>2015-08-29 01:00:00</td>\n",
       "      <td>19500.0</td>\n",
       "      <td>2015-07-04 08:35:03</td>\n",
       "      <td>1283.0</td>\n",
       "      <td>canceled</td>\n",
       "      <td>14</td>\n",
       "      <td>US</td>\n",
       "      <td>1283.0</td>\n",
       "      <td>7</td>\n",
       "      <td>55</td>\n",
       "    </tr>\n",
       "    <tr>\n",
       "      <td>4</td>\n",
       "      <td>1000014025</td>\n",
       "      <td>Monarch Espresso Bar</td>\n",
       "      <td>Restaurants</td>\n",
       "      <td>Food</td>\n",
       "      <td>USD</td>\n",
       "      <td>2016-04-01 13:38:27</td>\n",
       "      <td>50000.0</td>\n",
       "      <td>2016-02-26 13:38:27</td>\n",
       "      <td>52375.0</td>\n",
       "      <td>successful</td>\n",
       "      <td>224</td>\n",
       "      <td>US</td>\n",
       "      <td>52375.0</td>\n",
       "      <td>2</td>\n",
       "      <td>35</td>\n",
       "    </tr>\n",
       "  </tbody>\n",
       "</table>\n",
       "</div>"
      ],
      "text/plain": [
       "           ID                                               name  \\\n",
       "0  1000002330                    The Songs of Adelaide & Abullah   \n",
       "1  1000004038                                     Where is Hank?   \n",
       "2  1000007540  ToshiCapital Rekordz Needs Help to Complete Album   \n",
       "3  1000011046  Community Film Project: The Art of Neighborhoo...   \n",
       "4  1000014025                               Monarch Espresso Bar   \n",
       "\n",
       "         category main_category currency            deadline     goal  \\\n",
       "0          Poetry    Publishing      GBP 2015-10-09 11:36:00   1000.0   \n",
       "1  Narrative Film  Film & Video      USD 2013-02-26 00:20:50  45000.0   \n",
       "2           Music         Music      USD 2012-04-16 04:24:11   5000.0   \n",
       "3    Film & Video  Film & Video      USD 2015-08-29 01:00:00  19500.0   \n",
       "4     Restaurants          Food      USD 2016-04-01 13:38:27  50000.0   \n",
       "\n",
       "             launched  pledged       state  backers country  usd pledged  \\\n",
       "0 2015-08-11 12:12:28      0.0      failed        0      GB          0.0   \n",
       "1 2013-01-12 00:20:50    220.0      failed        3      US        220.0   \n",
       "2 2012-03-17 03:24:11      1.0      failed        1      US          1.0   \n",
       "3 2015-07-04 08:35:03   1283.0    canceled       14      US       1283.0   \n",
       "4 2016-02-26 13:38:27  52375.0  successful      224      US      52375.0   \n",
       "\n",
       "   month launched  total days  \n",
       "0               8          58  \n",
       "1               1          45  \n",
       "2               3          30  \n",
       "3               7          55  \n",
       "4               2          35  "
      ]
     },
     "execution_count": 23,
     "metadata": {},
     "output_type": "execute_result"
    }
   ],
   "source": [
    "ks.head()"
   ]
  },
  {
   "cell_type": "code",
   "execution_count": 24,
   "metadata": {},
   "outputs": [
    {
     "data": {
      "text/html": [
       "<div>\n",
       "<style scoped>\n",
       "    .dataframe tbody tr th:only-of-type {\n",
       "        vertical-align: middle;\n",
       "    }\n",
       "\n",
       "    .dataframe tbody tr th {\n",
       "        vertical-align: top;\n",
       "    }\n",
       "\n",
       "    .dataframe thead th {\n",
       "        text-align: right;\n",
       "    }\n",
       "</style>\n",
       "<table border=\"1\" class=\"dataframe\">\n",
       "  <thead>\n",
       "    <tr style=\"text-align: right;\">\n",
       "      <th></th>\n",
       "      <th>main_category</th>\n",
       "      <th>goal</th>\n",
       "      <th>pledged</th>\n",
       "      <th>state</th>\n",
       "      <th>backers</th>\n",
       "      <th>country</th>\n",
       "      <th>month launched</th>\n",
       "      <th>total days</th>\n",
       "    </tr>\n",
       "  </thead>\n",
       "  <tbody>\n",
       "    <tr>\n",
       "      <td>0</td>\n",
       "      <td>Publishing</td>\n",
       "      <td>1000.0</td>\n",
       "      <td>0.0</td>\n",
       "      <td>failed</td>\n",
       "      <td>0</td>\n",
       "      <td>GB</td>\n",
       "      <td>8</td>\n",
       "      <td>58</td>\n",
       "    </tr>\n",
       "    <tr>\n",
       "      <td>1</td>\n",
       "      <td>Film &amp; Video</td>\n",
       "      <td>45000.0</td>\n",
       "      <td>220.0</td>\n",
       "      <td>failed</td>\n",
       "      <td>3</td>\n",
       "      <td>US</td>\n",
       "      <td>1</td>\n",
       "      <td>45</td>\n",
       "    </tr>\n",
       "    <tr>\n",
       "      <td>2</td>\n",
       "      <td>Music</td>\n",
       "      <td>5000.0</td>\n",
       "      <td>1.0</td>\n",
       "      <td>failed</td>\n",
       "      <td>1</td>\n",
       "      <td>US</td>\n",
       "      <td>3</td>\n",
       "      <td>30</td>\n",
       "    </tr>\n",
       "    <tr>\n",
       "      <td>3</td>\n",
       "      <td>Film &amp; Video</td>\n",
       "      <td>19500.0</td>\n",
       "      <td>1283.0</td>\n",
       "      <td>canceled</td>\n",
       "      <td>14</td>\n",
       "      <td>US</td>\n",
       "      <td>7</td>\n",
       "      <td>55</td>\n",
       "    </tr>\n",
       "    <tr>\n",
       "      <td>4</td>\n",
       "      <td>Food</td>\n",
       "      <td>50000.0</td>\n",
       "      <td>52375.0</td>\n",
       "      <td>successful</td>\n",
       "      <td>224</td>\n",
       "      <td>US</td>\n",
       "      <td>2</td>\n",
       "      <td>35</td>\n",
       "    </tr>\n",
       "  </tbody>\n",
       "</table>\n",
       "</div>"
      ],
      "text/plain": [
       "  main_category     goal  pledged       state  backers country  \\\n",
       "0    Publishing   1000.0      0.0      failed        0      GB   \n",
       "1  Film & Video  45000.0    220.0      failed        3      US   \n",
       "2         Music   5000.0      1.0      failed        1      US   \n",
       "3  Film & Video  19500.0   1283.0    canceled       14      US   \n",
       "4          Food  50000.0  52375.0  successful      224      US   \n",
       "\n",
       "   month launched  total days  \n",
       "0               8          58  \n",
       "1               1          45  \n",
       "2               3          30  \n",
       "3               7          55  \n",
       "4               2          35  "
      ]
     },
     "execution_count": 24,
     "metadata": {},
     "output_type": "execute_result"
    }
   ],
   "source": [
    "# Dropping some unecessary columns. Can always change this later!\n",
    "# Dropped ID because they're all unique values, so not really useful.\n",
    "# Dropped 'category' because using 'main_category' instead. Could change!\n",
    "# Dropped 'currency' since it can be a perfect predictor for 'country'\n",
    "# Dropped 'usd pledged' because 'pledged' column is pretty much the same values.\n",
    "# Dropped 'deadline' and 'launched' because we got total month.\n",
    "ks = ks.drop(['ID','name','category','currency','usd pledged','deadline','launched'],axis=1)\n",
    "ks.head()"
   ]
  },
  {
   "cell_type": "code",
   "execution_count": 25,
   "metadata": {},
   "outputs": [
    {
     "data": {
      "text/plain": [
       "0    168218\n",
       "1    113081\n",
       "2     32354\n",
       "3      4428\n",
       "4      3555\n",
       "5      1478\n",
       "Name: state, dtype: int64"
      ]
     },
     "execution_count": 25,
     "metadata": {},
     "output_type": "execute_result"
    }
   ],
   "source": [
    "# Turning target variable (state) to binary format\n",
    "ks['state'] = ks['state'].map({'failed':0,'successful':1,'canceled':2,'live':3,'undefined':4,'suspended':5})\n",
    "ks['state'].value_counts()"
   ]
  },
  {
   "cell_type": "markdown",
   "metadata": {},
   "source": [
    "# Data Visual Exploration"
   ]
  },
  {
   "cell_type": "code",
   "execution_count": 26,
   "metadata": {
    "scrolled": true
   },
   "outputs": [
    {
     "data": {
      "text/html": [
       "<div>\n",
       "<style scoped>\n",
       "    .dataframe tbody tr th:only-of-type {\n",
       "        vertical-align: middle;\n",
       "    }\n",
       "\n",
       "    .dataframe tbody tr th {\n",
       "        vertical-align: top;\n",
       "    }\n",
       "\n",
       "    .dataframe thead th {\n",
       "        text-align: right;\n",
       "    }\n",
       "</style>\n",
       "<table border=\"1\" class=\"dataframe\">\n",
       "  <thead>\n",
       "    <tr style=\"text-align: right;\">\n",
       "      <th></th>\n",
       "      <th>main_category</th>\n",
       "      <th>goal</th>\n",
       "      <th>pledged</th>\n",
       "      <th>state</th>\n",
       "      <th>backers</th>\n",
       "      <th>country</th>\n",
       "      <th>month launched</th>\n",
       "      <th>total days</th>\n",
       "    </tr>\n",
       "  </thead>\n",
       "  <tbody>\n",
       "    <tr>\n",
       "      <td>0</td>\n",
       "      <td>Publishing</td>\n",
       "      <td>1000.0</td>\n",
       "      <td>0.0</td>\n",
       "      <td>0</td>\n",
       "      <td>0</td>\n",
       "      <td>GB</td>\n",
       "      <td>8</td>\n",
       "      <td>58</td>\n",
       "    </tr>\n",
       "    <tr>\n",
       "      <td>1</td>\n",
       "      <td>Film &amp; Video</td>\n",
       "      <td>45000.0</td>\n",
       "      <td>220.0</td>\n",
       "      <td>0</td>\n",
       "      <td>3</td>\n",
       "      <td>US</td>\n",
       "      <td>1</td>\n",
       "      <td>45</td>\n",
       "    </tr>\n",
       "    <tr>\n",
       "      <td>2</td>\n",
       "      <td>Music</td>\n",
       "      <td>5000.0</td>\n",
       "      <td>1.0</td>\n",
       "      <td>0</td>\n",
       "      <td>1</td>\n",
       "      <td>US</td>\n",
       "      <td>3</td>\n",
       "      <td>30</td>\n",
       "    </tr>\n",
       "    <tr>\n",
       "      <td>3</td>\n",
       "      <td>Film &amp; Video</td>\n",
       "      <td>19500.0</td>\n",
       "      <td>1283.0</td>\n",
       "      <td>2</td>\n",
       "      <td>14</td>\n",
       "      <td>US</td>\n",
       "      <td>7</td>\n",
       "      <td>55</td>\n",
       "    </tr>\n",
       "    <tr>\n",
       "      <td>4</td>\n",
       "      <td>Food</td>\n",
       "      <td>50000.0</td>\n",
       "      <td>52375.0</td>\n",
       "      <td>1</td>\n",
       "      <td>224</td>\n",
       "      <td>US</td>\n",
       "      <td>2</td>\n",
       "      <td>35</td>\n",
       "    </tr>\n",
       "  </tbody>\n",
       "</table>\n",
       "</div>"
      ],
      "text/plain": [
       "  main_category     goal  pledged  state  backers country  month launched  \\\n",
       "0    Publishing   1000.0      0.0      0        0      GB               8   \n",
       "1  Film & Video  45000.0    220.0      0        3      US               1   \n",
       "2         Music   5000.0      1.0      0        1      US               3   \n",
       "3  Film & Video  19500.0   1283.0      2       14      US               7   \n",
       "4          Food  50000.0  52375.0      1      224      US               2   \n",
       "\n",
       "   total days  \n",
       "0          58  \n",
       "1          45  \n",
       "2          30  \n",
       "3          55  \n",
       "4          35  "
      ]
     },
     "execution_count": 26,
     "metadata": {},
     "output_type": "execute_result"
    }
   ],
   "source": [
    "# NOTE: 0=failed, 1=succeeded, 2=cancelled, 3=live, 4=undefined, 5=suspended\n",
    "ks.head()"
   ]
  },
  {
   "cell_type": "code",
   "execution_count": 27,
   "metadata": {},
   "outputs": [
    {
     "data": {
      "text/plain": [
       "<matplotlib.axes._subplots.AxesSubplot at 0x1a20f8a5d0>"
      ]
     },
     "execution_count": 27,
     "metadata": {},
     "output_type": "execute_result"
    },
    {
     "data": {
      "image/png": "[encoded data removed]",
      "text/plain": [
       "<Figure size 432x288 with 2 Axes>"
      ]
     },
     "metadata": {
      "needs_background": "light"
     },
     "output_type": "display_data"
    }
   ],
   "source": [
    "# Based on this heatmap, there is a high correlation with backers\n",
    "# and pledged amounts. Otherwise, not much correlation with independent variables\n",
    "sns.heatmap(ks.corr(),cmap='plasma')"
   ]
  },
  {
   "cell_type": "code",
   "execution_count": 28,
   "metadata": {},
   "outputs": [
    {
     "data": {
      "text/plain": [
       "<matplotlib.axes._subplots.AxesSubplot at 0x1a20fb4090>"
      ]
     },
     "execution_count": 28,
     "metadata": {},
     "output_type": "execute_result"
    },
    {
     "data": {
      "image/png": "[encoded data removed]",
      "text/plain": [
       "<Figure size 504x360 with 1 Axes>"
      ]
     },
     "metadata": {
      "needs_background": "light"
     },
     "output_type": "display_data"
    }
   ],
   "source": [
    "# There looks to be more project failures than successes in this dataset\n",
    "# Heavy bias towards failure and success rates\n",
    "plt.figure(figsize=(7,5))\n",
    "sns.countplot(ks['state'])"
   ]
  },
  {
   "cell_type": "code",
   "execution_count": 29,
   "metadata": {},
   "outputs": [
    {
     "data": {
      "text/plain": [
       "<seaborn.axisgrid.FacetGrid at 0x1a20fb4cd0>"
      ]
     },
     "execution_count": 29,
     "metadata": {},
     "output_type": "execute_result"
    },
    {
     "data": {
      "image/png": "[encoded data removed]",
      "text/plain": [
       "<Figure size 360x360 with 1 Axes>"
      ]
     },
     "metadata": {
      "needs_background": "light"
     },
     "output_type": "display_data"
    }
   ],
   "source": [
    "# Successful projects, on average, have the lowest duration of days online\n",
    "sns.catplot(data=ks,x='state',y='total days',kind='bar')"
   ]
  },
  {
   "cell_type": "code",
   "execution_count": 30,
   "metadata": {
    "scrolled": false
   },
   "outputs": [
    {
     "data": {
      "text/plain": [
       "<matplotlib.axes._subplots.AxesSubplot at 0x1a20ff3550>"
      ]
     },
     "execution_count": 30,
     "metadata": {},
     "output_type": "execute_result"
    },
    {
     "data": {
      "image/png": "[encoded data removed]",
      "text/plain": [
       "<Figure size 720x360 with 1 Axes>"
      ]
     },
     "metadata": {
      "needs_background": "light"
     },
     "output_type": "display_data"
    }
   ],
   "source": [
    "# Makes sense. Successful projects have more and higher pledge amounts\n",
    "plt.figure(figsize=(10,5))\n",
    "sns.stripplot(data=ks,x='state',y='pledged',jitter=True)"
   ]
  },
  {
   "cell_type": "code",
   "execution_count": 31,
   "metadata": {
    "scrolled": true
   },
   "outputs": [
    {
     "data": {
      "text/plain": [
       "<matplotlib.axes._subplots.AxesSubplot at 0x1a2101b110>"
      ]
     },
     "execution_count": 31,
     "metadata": {},
     "output_type": "execute_result"
    },
    {
     "data": {
      "image/png": "[encoded data removed]",
      "text/plain": [
       "<Figure size 720x360 with 1 Axes>"
      ]
     },
     "metadata": {
      "needs_background": "light"
     },
     "output_type": "display_data"
    }
   ],
   "source": [
    "# Sucessful projects have more backers, which also makes sense\n",
    "plt.figure(figsize=(10,5))\n",
    "sns.stripplot(data=ks,x='state',y='backers',jitter=True)"
   ]
  },
  {
   "cell_type": "code",
   "execution_count": 32,
   "metadata": {},
   "outputs": [
    {
     "data": {
      "text/plain": [
       "<matplotlib.axes._subplots.AxesSubplot at 0x1a21036a90>"
      ]
     },
     "execution_count": 32,
     "metadata": {},
     "output_type": "execute_result"
    },
    {
     "data": {
      "image/png": "[encoded data removed]",
      "text/plain": [
       "<Figure size 720x360 with 1 Axes>"
      ]
     },
     "metadata": {
      "needs_background": "light"
     },
     "output_type": "display_data"
    }
   ],
   "source": [
    "# Failed and cancelled projects tend to have higher funding goals\n",
    "# Most likely because high funding goals are difficult to reach\n",
    "plt.figure(figsize=(10,5))\n",
    "sns.stripplot(data=ks,x='state',y='goal',jitter=True)"
   ]
  },
  {
   "cell_type": "markdown",
   "metadata": {},
   "source": [
    "# Data Setup 2"
   ]
  },
  {
   "cell_type": "code",
   "execution_count": 33,
   "metadata": {},
   "outputs": [],
   "source": [
    "# Time to create some dummy independent variables\n",
    "main_cat = pd.get_dummies(ks['main_category'],drop_first=True)"
   ]
  },
  {
   "cell_type": "code",
   "execution_count": 34,
   "metadata": {},
   "outputs": [
    {
     "data": {
      "text/html": [
       "<div>\n",
       "<style scoped>\n",
       "    .dataframe tbody tr th:only-of-type {\n",
       "        vertical-align: middle;\n",
       "    }\n",
       "\n",
       "    .dataframe tbody tr th {\n",
       "        vertical-align: top;\n",
       "    }\n",
       "\n",
       "    .dataframe thead th {\n",
       "        text-align: right;\n",
       "    }\n",
       "</style>\n",
       "<table border=\"1\" class=\"dataframe\">\n",
       "  <thead>\n",
       "    <tr style=\"text-align: right;\">\n",
       "      <th></th>\n",
       "      <th>main_category</th>\n",
       "      <th>goal</th>\n",
       "      <th>pledged</th>\n",
       "      <th>state</th>\n",
       "      <th>backers</th>\n",
       "      <th>country</th>\n",
       "      <th>month launched</th>\n",
       "      <th>total days</th>\n",
       "      <th>Comics</th>\n",
       "      <th>Crafts</th>\n",
       "      <th>...</th>\n",
       "      <th>Fashion</th>\n",
       "      <th>Film &amp; Video</th>\n",
       "      <th>Food</th>\n",
       "      <th>Games</th>\n",
       "      <th>Journalism</th>\n",
       "      <th>Music</th>\n",
       "      <th>Photography</th>\n",
       "      <th>Publishing</th>\n",
       "      <th>Technology</th>\n",
       "      <th>Theater</th>\n",
       "    </tr>\n",
       "  </thead>\n",
       "  <tbody>\n",
       "    <tr>\n",
       "      <td>0</td>\n",
       "      <td>Publishing</td>\n",
       "      <td>1000.0</td>\n",
       "      <td>0.0</td>\n",
       "      <td>0</td>\n",
       "      <td>0</td>\n",
       "      <td>GB</td>\n",
       "      <td>8</td>\n",
       "      <td>58</td>\n",
       "      <td>0</td>\n",
       "      <td>0</td>\n",
       "      <td>...</td>\n",
       "      <td>0</td>\n",
       "      <td>0</td>\n",
       "      <td>0</td>\n",
       "      <td>0</td>\n",
       "      <td>0</td>\n",
       "      <td>0</td>\n",
       "      <td>0</td>\n",
       "      <td>1</td>\n",
       "      <td>0</td>\n",
       "      <td>0</td>\n",
       "    </tr>\n",
       "    <tr>\n",
       "      <td>1</td>\n",
       "      <td>Film &amp; Video</td>\n",
       "      <td>45000.0</td>\n",
       "      <td>220.0</td>\n",
       "      <td>0</td>\n",
       "      <td>3</td>\n",
       "      <td>US</td>\n",
       "      <td>1</td>\n",
       "      <td>45</td>\n",
       "      <td>0</td>\n",
       "      <td>0</td>\n",
       "      <td>...</td>\n",
       "      <td>0</td>\n",
       "      <td>1</td>\n",
       "      <td>0</td>\n",
       "      <td>0</td>\n",
       "      <td>0</td>\n",
       "      <td>0</td>\n",
       "      <td>0</td>\n",
       "      <td>0</td>\n",
       "      <td>0</td>\n",
       "      <td>0</td>\n",
       "    </tr>\n",
       "    <tr>\n",
       "      <td>2</td>\n",
       "      <td>Music</td>\n",
       "      <td>5000.0</td>\n",
       "      <td>1.0</td>\n",
       "      <td>0</td>\n",
       "      <td>1</td>\n",
       "      <td>US</td>\n",
       "      <td>3</td>\n",
       "      <td>30</td>\n",
       "      <td>0</td>\n",
       "      <td>0</td>\n",
       "      <td>...</td>\n",
       "      <td>0</td>\n",
       "      <td>0</td>\n",
       "      <td>0</td>\n",
       "      <td>0</td>\n",
       "      <td>0</td>\n",
       "      <td>1</td>\n",
       "      <td>0</td>\n",
       "      <td>0</td>\n",
       "      <td>0</td>\n",
       "      <td>0</td>\n",
       "    </tr>\n",
       "    <tr>\n",
       "      <td>3</td>\n",
       "      <td>Film &amp; Video</td>\n",
       "      <td>19500.0</td>\n",
       "      <td>1283.0</td>\n",
       "      <td>2</td>\n",
       "      <td>14</td>\n",
       "      <td>US</td>\n",
       "      <td>7</td>\n",
       "      <td>55</td>\n",
       "      <td>0</td>\n",
       "      <td>0</td>\n",
       "      <td>...</td>\n",
       "      <td>0</td>\n",
       "      <td>1</td>\n",
       "      <td>0</td>\n",
       "      <td>0</td>\n",
       "      <td>0</td>\n",
       "      <td>0</td>\n",
       "      <td>0</td>\n",
       "      <td>0</td>\n",
       "      <td>0</td>\n",
       "      <td>0</td>\n",
       "    </tr>\n",
       "    <tr>\n",
       "      <td>4</td>\n",
       "      <td>Food</td>\n",
       "      <td>50000.0</td>\n",
       "      <td>52375.0</td>\n",
       "      <td>1</td>\n",
       "      <td>224</td>\n",
       "      <td>US</td>\n",
       "      <td>2</td>\n",
       "      <td>35</td>\n",
       "      <td>0</td>\n",
       "      <td>0</td>\n",
       "      <td>...</td>\n",
       "      <td>0</td>\n",
       "      <td>0</td>\n",
       "      <td>1</td>\n",
       "      <td>0</td>\n",
       "      <td>0</td>\n",
       "      <td>0</td>\n",
       "      <td>0</td>\n",
       "      <td>0</td>\n",
       "      <td>0</td>\n",
       "      <td>0</td>\n",
       "    </tr>\n",
       "  </tbody>\n",
       "</table>\n",
       "<p>5 rows × 22 columns</p>\n",
       "</div>"
      ],
      "text/plain": [
       "  main_category     goal  pledged  state  backers country  month launched  \\\n",
       "0    Publishing   1000.0      0.0      0        0      GB               8   \n",
       "1  Film & Video  45000.0    220.0      0        3      US               1   \n",
       "2         Music   5000.0      1.0      0        1      US               3   \n",
       "3  Film & Video  19500.0   1283.0      2       14      US               7   \n",
       "4          Food  50000.0  52375.0      1      224      US               2   \n",
       "\n",
       "   total days  Comics  Crafts  ...  Fashion  Film & Video  Food  Games  \\\n",
       "0          58       0       0  ...        0             0     0      0   \n",
       "1          45       0       0  ...        0             1     0      0   \n",
       "2          30       0       0  ...        0             0     0      0   \n",
       "3          55       0       0  ...        0             1     0      0   \n",
       "4          35       0       0  ...        0             0     1      0   \n",
       "\n",
       "   Journalism  Music  Photography  Publishing  Technology  Theater  \n",
       "0           0      0            0           1           0        0  \n",
       "1           0      0            0           0           0        0  \n",
       "2           0      1            0           0           0        0  \n",
       "3           0      0            0           0           0        0  \n",
       "4           0      0            0           0           0        0  \n",
       "\n",
       "[5 rows x 22 columns]"
      ]
     },
     "execution_count": 34,
     "metadata": {},
     "output_type": "execute_result"
    }
   ],
   "source": [
    "ks = pd.concat([ks,main_cat],axis=1)\n",
    "ks.head()"
   ]
  },
  {
   "cell_type": "code",
   "execution_count": 35,
   "metadata": {},
   "outputs": [
    {
     "data": {
      "text/html": [
       "<div>\n",
       "<style scoped>\n",
       "    .dataframe tbody tr th:only-of-type {\n",
       "        vertical-align: middle;\n",
       "    }\n",
       "\n",
       "    .dataframe tbody tr th {\n",
       "        vertical-align: top;\n",
       "    }\n",
       "\n",
       "    .dataframe thead th {\n",
       "        text-align: right;\n",
       "    }\n",
       "</style>\n",
       "<table border=\"1\" class=\"dataframe\">\n",
       "  <thead>\n",
       "    <tr style=\"text-align: right;\">\n",
       "      <th></th>\n",
       "      <th>goal</th>\n",
       "      <th>pledged</th>\n",
       "      <th>state</th>\n",
       "      <th>backers</th>\n",
       "      <th>country</th>\n",
       "      <th>month launched</th>\n",
       "      <th>total days</th>\n",
       "      <th>Comics</th>\n",
       "      <th>Crafts</th>\n",
       "      <th>Dance</th>\n",
       "      <th>...</th>\n",
       "      <th>Fashion</th>\n",
       "      <th>Film &amp; Video</th>\n",
       "      <th>Food</th>\n",
       "      <th>Games</th>\n",
       "      <th>Journalism</th>\n",
       "      <th>Music</th>\n",
       "      <th>Photography</th>\n",
       "      <th>Publishing</th>\n",
       "      <th>Technology</th>\n",
       "      <th>Theater</th>\n",
       "    </tr>\n",
       "  </thead>\n",
       "  <tbody>\n",
       "    <tr>\n",
       "      <td>0</td>\n",
       "      <td>1000.0</td>\n",
       "      <td>0.0</td>\n",
       "      <td>0</td>\n",
       "      <td>0</td>\n",
       "      <td>GB</td>\n",
       "      <td>8</td>\n",
       "      <td>58</td>\n",
       "      <td>0</td>\n",
       "      <td>0</td>\n",
       "      <td>0</td>\n",
       "      <td>...</td>\n",
       "      <td>0</td>\n",
       "      <td>0</td>\n",
       "      <td>0</td>\n",
       "      <td>0</td>\n",
       "      <td>0</td>\n",
       "      <td>0</td>\n",
       "      <td>0</td>\n",
       "      <td>1</td>\n",
       "      <td>0</td>\n",
       "      <td>0</td>\n",
       "    </tr>\n",
       "    <tr>\n",
       "      <td>1</td>\n",
       "      <td>45000.0</td>\n",
       "      <td>220.0</td>\n",
       "      <td>0</td>\n",
       "      <td>3</td>\n",
       "      <td>US</td>\n",
       "      <td>1</td>\n",
       "      <td>45</td>\n",
       "      <td>0</td>\n",
       "      <td>0</td>\n",
       "      <td>0</td>\n",
       "      <td>...</td>\n",
       "      <td>0</td>\n",
       "      <td>1</td>\n",
       "      <td>0</td>\n",
       "      <td>0</td>\n",
       "      <td>0</td>\n",
       "      <td>0</td>\n",
       "      <td>0</td>\n",
       "      <td>0</td>\n",
       "      <td>0</td>\n",
       "      <td>0</td>\n",
       "    </tr>\n",
       "    <tr>\n",
       "      <td>2</td>\n",
       "      <td>5000.0</td>\n",
       "      <td>1.0</td>\n",
       "      <td>0</td>\n",
       "      <td>1</td>\n",
       "      <td>US</td>\n",
       "      <td>3</td>\n",
       "      <td>30</td>\n",
       "      <td>0</td>\n",
       "      <td>0</td>\n",
       "      <td>0</td>\n",
       "      <td>...</td>\n",
       "      <td>0</td>\n",
       "      <td>0</td>\n",
       "      <td>0</td>\n",
       "      <td>0</td>\n",
       "      <td>0</td>\n",
       "      <td>1</td>\n",
       "      <td>0</td>\n",
       "      <td>0</td>\n",
       "      <td>0</td>\n",
       "      <td>0</td>\n",
       "    </tr>\n",
       "    <tr>\n",
       "      <td>3</td>\n",
       "      <td>19500.0</td>\n",
       "      <td>1283.0</td>\n",
       "      <td>2</td>\n",
       "      <td>14</td>\n",
       "      <td>US</td>\n",
       "      <td>7</td>\n",
       "      <td>55</td>\n",
       "      <td>0</td>\n",
       "      <td>0</td>\n",
       "      <td>0</td>\n",
       "      <td>...</td>\n",
       "      <td>0</td>\n",
       "      <td>1</td>\n",
       "      <td>0</td>\n",
       "      <td>0</td>\n",
       "      <td>0</td>\n",
       "      <td>0</td>\n",
       "      <td>0</td>\n",
       "      <td>0</td>\n",
       "      <td>0</td>\n",
       "      <td>0</td>\n",
       "    </tr>\n",
       "    <tr>\n",
       "      <td>4</td>\n",
       "      <td>50000.0</td>\n",
       "      <td>52375.0</td>\n",
       "      <td>1</td>\n",
       "      <td>224</td>\n",
       "      <td>US</td>\n",
       "      <td>2</td>\n",
       "      <td>35</td>\n",
       "      <td>0</td>\n",
       "      <td>0</td>\n",
       "      <td>0</td>\n",
       "      <td>...</td>\n",
       "      <td>0</td>\n",
       "      <td>0</td>\n",
       "      <td>1</td>\n",
       "      <td>0</td>\n",
       "      <td>0</td>\n",
       "      <td>0</td>\n",
       "      <td>0</td>\n",
       "      <td>0</td>\n",
       "      <td>0</td>\n",
       "      <td>0</td>\n",
       "    </tr>\n",
       "  </tbody>\n",
       "</table>\n",
       "<p>5 rows × 21 columns</p>\n",
       "</div>"
      ],
      "text/plain": [
       "      goal  pledged  state  backers country  month launched  total days  \\\n",
       "0   1000.0      0.0      0        0      GB               8          58   \n",
       "1  45000.0    220.0      0        3      US               1          45   \n",
       "2   5000.0      1.0      0        1      US               3          30   \n",
       "3  19500.0   1283.0      2       14      US               7          55   \n",
       "4  50000.0  52375.0      1      224      US               2          35   \n",
       "\n",
       "   Comics  Crafts  Dance  ...  Fashion  Film & Video  Food  Games  Journalism  \\\n",
       "0       0       0      0  ...        0             0     0      0           0   \n",
       "1       0       0      0  ...        0             1     0      0           0   \n",
       "2       0       0      0  ...        0             0     0      0           0   \n",
       "3       0       0      0  ...        0             1     0      0           0   \n",
       "4       0       0      0  ...        0             0     1      0           0   \n",
       "\n",
       "   Music  Photography  Publishing  Technology  Theater  \n",
       "0      0            0           1           0        0  \n",
       "1      0            0           0           0        0  \n",
       "2      1            0           0           0        0  \n",
       "3      0            0           0           0        0  \n",
       "4      0            0           0           0        0  \n",
       "\n",
       "[5 rows x 21 columns]"
      ]
     },
     "execution_count": 35,
     "metadata": {},
     "output_type": "execute_result"
    }
   ],
   "source": [
    "# Time to remove main_category since I got the dummy variables it\n",
    "ks = ks.drop(['main_category'],axis=1)\n",
    "ks.head()"
   ]
  },
  {
   "cell_type": "code",
   "execution_count": 36,
   "metadata": {},
   "outputs": [],
   "source": [
    "# Dropping 'country' since it won't help in predicting 'state'\n",
    "ks = ks.drop('country',axis=1)"
   ]
  },
  {
   "cell_type": "code",
   "execution_count": 37,
   "metadata": {},
   "outputs": [],
   "source": [
    "# Dropping 'pledged' since it is too similar to 'goal'\n",
    "ks = ks.drop('pledged',axis=1)"
   ]
  },
  {
   "cell_type": "markdown",
   "metadata": {},
   "source": [
    "# Create Models"
   ]
  },
  {
   "cell_type": "code",
   "execution_count": 38,
   "metadata": {},
   "outputs": [],
   "source": [
    "X = ks.drop('state',axis=1)\n",
    "y = ks['state']"
   ]
  },
  {
   "cell_type": "code",
   "execution_count": 39,
   "metadata": {},
   "outputs": [],
   "source": [
    "from sklearn.model_selection import train_test_split"
   ]
  },
  {
   "cell_type": "code",
   "execution_count": 40,
   "metadata": {},
   "outputs": [],
   "source": [
    "X_train, X_test, y_train, y_test = train_test_split(X,y,test_size=0.20,random_state=42)"
   ]
  },
  {
   "cell_type": "code",
   "execution_count": 41,
   "metadata": {},
   "outputs": [],
   "source": [
    "# Feature Scaling to normalize/standardize features (columns)\n",
    "from sklearn.preprocessing import StandardScaler\n",
    "sc = StandardScaler()\n",
    "X_train = sc.fit_transform(X_train)\n",
    "X_test = sc.transform(X_test)"
   ]
  },
  {
   "cell_type": "markdown",
   "metadata": {},
   "source": [
    "Logistic Regression"
   ]
  },
  {
   "cell_type": "code",
   "execution_count": 42,
   "metadata": {},
   "outputs": [],
   "source": [
    "from sklearn.linear_model import LogisticRegression\n",
    "logmod = LogisticRegression()"
   ]
  },
  {
   "cell_type": "markdown",
   "metadata": {},
   "source": [
    "K-Nearest Neighbors"
   ]
  },
  {
   "cell_type": "code",
   "execution_count": 43,
   "metadata": {},
   "outputs": [],
   "source": [
    "# KNNs don't scale well with large datasets, so not using it.\n",
    "#from sklearn.neighbors import KNeighborsClassifier\n",
    "#knn = KNeighborsClassifier(n_neighbors=1)"
   ]
  },
  {
   "cell_type": "markdown",
   "metadata": {},
   "source": [
    "Random Forest"
   ]
  },
  {
   "cell_type": "code",
   "execution_count": 44,
   "metadata": {},
   "outputs": [],
   "source": [
    "from sklearn.ensemble import RandomForestClassifier\n",
    "rfc = RandomForestClassifier()"
   ]
  },
  {
   "cell_type": "markdown",
   "metadata": {},
   "source": [
    "Support Vector Machines"
   ]
  },
  {
   "cell_type": "code",
   "execution_count": 45,
   "metadata": {},
   "outputs": [],
   "source": [
    "# SVMs don't scale well with large datasets, so not using it.\n",
    "#from sklearn.svm import SVC\n",
    "#svm = SVC(kernel='linear')"
   ]
  },
  {
   "cell_type": "markdown",
   "metadata": {},
   "source": [
    "# Cross Validation and Choose Model"
   ]
  },
  {
   "cell_type": "markdown",
   "metadata": {},
   "source": [
    "Checking which classification models will perform best with this dataset through cross validation."
   ]
  },
  {
   "cell_type": "code",
   "execution_count": 46,
   "metadata": {},
   "outputs": [
    {
     "name": "stderr",
     "output_type": "stream",
     "text": [
      "[Parallel(n_jobs=1)]: Using backend SequentialBackend with 1 concurrent workers.\n"
     ]
    },
    {
     "name": "stdout",
     "output_type": "stream",
     "text": [
      "[CV]  ................................................................\n",
      "[CV] ................................................. , total=  14.2s\n",
      "[CV]  ................................................................\n"
     ]
    },
    {
     "name": "stderr",
     "output_type": "stream",
     "text": [
      "[Parallel(n_jobs=1)]: Done   1 out of   1 | elapsed:   14.3s remaining:    0.0s\n"
     ]
    },
    {
     "name": "stdout",
     "output_type": "stream",
     "text": [
      "[CV] ................................................. , total=  15.1s\n",
      "[CV]  ................................................................\n",
      "[CV] ................................................. , total=  15.7s\n",
      "[CV]  ................................................................\n",
      "[CV] ................................................. , total=  13.8s\n",
      "[CV]  ................................................................\n",
      "[CV] ................................................. , total=  15.4s\n",
      "0.7402540251039793\n"
     ]
    },
    {
     "name": "stderr",
     "output_type": "stream",
     "text": [
      "[Parallel(n_jobs=1)]: Done   5 out of   5 | elapsed:  1.2min finished\n"
     ]
    }
   ],
   "source": [
    "# Logistic Regression\n",
    "from sklearn.model_selection import cross_val_score\n",
    "print(cross_val_score(logmod,X=X_train,y=y_train,cv=5,scoring='accuracy',verbose=2).mean())"
   ]
  },
  {
   "cell_type": "code",
   "execution_count": 47,
   "metadata": {},
   "outputs": [
    {
     "name": "stdout",
     "output_type": "stream",
     "text": [
      "[CV]  ................................................................\n"
     ]
    },
    {
     "name": "stderr",
     "output_type": "stream",
     "text": [
      "[Parallel(n_jobs=1)]: Using backend SequentialBackend with 1 concurrent workers.\n"
     ]
    },
    {
     "name": "stdout",
     "output_type": "stream",
     "text": [
      "[CV] ................................................. , total=   2.5s\n",
      "[CV]  ................................................................\n"
     ]
    },
    {
     "name": "stderr",
     "output_type": "stream",
     "text": [
      "[Parallel(n_jobs=1)]: Done   1 out of   1 | elapsed:    2.6s remaining:    0.0s\n"
     ]
    },
    {
     "name": "stdout",
     "output_type": "stream",
     "text": [
      "[CV] ................................................. , total=   2.5s\n",
      "[CV]  ................................................................\n",
      "[CV] ................................................. , total=   2.4s\n",
      "[CV]  ................................................................\n",
      "[CV] ................................................. , total=   2.5s\n",
      "[CV]  ................................................................\n",
      "[CV] ................................................. , total=   2.6s\n",
      "0.7781972596363281\n"
     ]
    },
    {
     "name": "stderr",
     "output_type": "stream",
     "text": [
      "[Parallel(n_jobs=1)]: Done   5 out of   5 | elapsed:   12.7s finished\n"
     ]
    }
   ],
   "source": [
    "# Random Forest\n",
    "from sklearn.model_selection import cross_val_score\n",
    "print(cross_val_score(rfc,X=X_train,y=y_train,cv=5,scoring='accuracy',verbose=2).mean())"
   ]
  },
  {
   "cell_type": "markdown",
   "metadata": {},
   "source": [
    "The random forest model performed better than logistic regression model by a small margin. In addition, it looks to be less computationally expensive to run. For those reasons, I'm going to utilize the random forest model to classify the Kickstarter project states."
   ]
  },
  {
   "cell_type": "markdown",
   "metadata": {},
   "source": [
    "# Tweaking Parameters"
   ]
  },
  {
   "cell_type": "code",
   "execution_count": 48,
   "metadata": {},
   "outputs": [],
   "source": [
    "from sklearn.model_selection import GridSearchCV"
   ]
  },
  {
   "cell_type": "code",
   "execution_count": 49,
   "metadata": {},
   "outputs": [],
   "source": [
    "param_grid = {'n_estimators':[25,50,100]}\n",
    "grid = GridSearchCV(rfc,param_grid,cv=5,verbose=2)"
   ]
  },
  {
   "cell_type": "markdown",
   "metadata": {},
   "source": [
    "# Fitting Model"
   ]
  },
  {
   "cell_type": "code",
   "execution_count": 50,
   "metadata": {},
   "outputs": [
    {
     "name": "stdout",
     "output_type": "stream",
     "text": [
      "Fitting 5 folds for each of 3 candidates, totalling 15 fits\n",
      "[CV] n_estimators=25 .................................................\n"
     ]
    },
    {
     "name": "stderr",
     "output_type": "stream",
     "text": [
      "[Parallel(n_jobs=1)]: Using backend SequentialBackend with 1 concurrent workers.\n"
     ]
    },
    {
     "name": "stdout",
     "output_type": "stream",
     "text": [
      "[CV] .................................. n_estimators=25, total=   6.2s\n",
      "[CV] n_estimators=25 .................................................\n"
     ]
    },
    {
     "name": "stderr",
     "output_type": "stream",
     "text": [
      "[Parallel(n_jobs=1)]: Done   1 out of   1 | elapsed:    6.2s remaining:    0.0s\n"
     ]
    },
    {
     "name": "stdout",
     "output_type": "stream",
     "text": [
      "[CV] .................................. n_estimators=25, total=   6.2s\n",
      "[CV] n_estimators=25 .................................................\n",
      "[CV] .................................. n_estimators=25, total=   6.2s\n",
      "[CV] n_estimators=25 .................................................\n",
      "[CV] .................................. n_estimators=25, total=   6.1s\n",
      "[CV] n_estimators=25 .................................................\n",
      "[CV] .................................. n_estimators=25, total=   6.5s\n",
      "[CV] n_estimators=50 .................................................\n",
      "[CV] .................................. n_estimators=50, total=  12.0s\n",
      "[CV] n_estimators=50 .................................................\n",
      "[CV] .................................. n_estimators=50, total=  12.1s\n",
      "[CV] n_estimators=50 .................................................\n",
      "[CV] .................................. n_estimators=50, total=  12.3s\n",
      "[CV] n_estimators=50 .................................................\n",
      "[CV] .................................. n_estimators=50, total=  12.5s\n",
      "[CV] n_estimators=50 .................................................\n",
      "[CV] .................................. n_estimators=50, total=  12.5s\n",
      "[CV] n_estimators=100 ................................................\n",
      "[CV] ................................. n_estimators=100, total=  26.5s\n",
      "[CV] n_estimators=100 ................................................\n",
      "[CV] ................................. n_estimators=100, total=  24.6s\n",
      "[CV] n_estimators=100 ................................................\n",
      "[CV] ................................. n_estimators=100, total=  24.4s\n",
      "[CV] n_estimators=100 ................................................\n",
      "[CV] ................................. n_estimators=100, total=  25.2s\n",
      "[CV] n_estimators=100 ................................................\n",
      "[CV] ................................. n_estimators=100, total=  26.3s\n"
     ]
    },
    {
     "name": "stderr",
     "output_type": "stream",
     "text": [
      "[Parallel(n_jobs=1)]: Done  15 out of  15 | elapsed:  3.7min finished\n"
     ]
    },
    {
     "data": {
      "text/plain": [
       "GridSearchCV(cv=5, error_score='raise-deprecating',\n",
       "             estimator=RandomForestClassifier(bootstrap=True, class_weight=None,\n",
       "                                              criterion='gini', max_depth=None,\n",
       "                                              max_features='auto',\n",
       "                                              max_leaf_nodes=None,\n",
       "                                              min_impurity_decrease=0.0,\n",
       "                                              min_impurity_split=None,\n",
       "                                              min_samples_leaf=1,\n",
       "                                              min_samples_split=2,\n",
       "                                              min_weight_fraction_leaf=0.0,\n",
       "                                              n_estimators='warn', n_jobs=None,\n",
       "                                              oob_score=False,\n",
       "                                              random_state=None, verbose=0,\n",
       "                                              warm_start=False),\n",
       "             iid='warn', n_jobs=None,\n",
       "             param_grid={'n_estimators': [25, 50, 100]},\n",
       "             pre_dispatch='2*n_jobs', refit=True, return_train_score=False,\n",
       "             scoring=None, verbose=2)"
      ]
     },
     "execution_count": 50,
     "metadata": {},
     "output_type": "execute_result"
    }
   ],
   "source": [
    "grid.fit(X_train,y_train)"
   ]
  },
  {
   "cell_type": "code",
   "execution_count": 51,
   "metadata": {},
   "outputs": [
    {
     "data": {
      "text/plain": [
       "RandomForestClassifier(bootstrap=True, class_weight=None, criterion='gini',\n",
       "                       max_depth=None, max_features='auto', max_leaf_nodes=None,\n",
       "                       min_impurity_decrease=0.0, min_impurity_split=None,\n",
       "                       min_samples_leaf=1, min_samples_split=2,\n",
       "                       min_weight_fraction_leaf=0.0, n_estimators=100,\n",
       "                       n_jobs=None, oob_score=False, random_state=None,\n",
       "                       verbose=0, warm_start=False)"
      ]
     },
     "execution_count": 51,
     "metadata": {},
     "output_type": "execute_result"
    }
   ],
   "source": [
    "grid.best_estimator_"
   ]
  },
  {
   "cell_type": "code",
   "execution_count": 52,
   "metadata": {},
   "outputs": [],
   "source": [
    "pred_rfc = grid.predict(X_test)"
   ]
  },
  {
   "cell_type": "code",
   "execution_count": 53,
   "metadata": {},
   "outputs": [
    {
     "data": {
      "text/plain": [
       "144208    0\n",
       "224920    1\n",
       "11367     0\n",
       "170506    0\n",
       "24881     0\n",
       "         ..\n",
       "89822     0\n",
       "75254     0\n",
       "201675    1\n",
       "309330    0\n",
       "278178    2\n",
       "Name: state, Length: 64623, dtype: int64"
      ]
     },
     "execution_count": 53,
     "metadata": {},
     "output_type": "execute_result"
    }
   ],
   "source": [
    "y_test"
   ]
  },
  {
   "cell_type": "markdown",
   "metadata": {},
   "source": [
    "# Evaluations"
   ]
  },
  {
   "cell_type": "code",
   "execution_count": 54,
   "metadata": {},
   "outputs": [],
   "source": [
    "from sklearn.metrics import classification_report,confusion_matrix,accuracy_score"
   ]
  },
  {
   "cell_type": "code",
   "execution_count": 55,
   "metadata": {},
   "outputs": [
    {
     "name": "stdout",
     "output_type": "stream",
     "text": [
      "[[29512  2230  1541   178   264    36]\n",
      " [ 1933 20493    76    35     5     6]\n",
      " [ 5472   374   443    33    72     8]\n",
      " [  593   214    40    33     5     0]\n",
      " [  417     3    36     6   246     0]\n",
      " [  233    58    20     4     3     1]]\n",
      "\n",
      "\n",
      "              precision    recall  f1-score   support\n",
      "\n",
      "           0       0.77      0.87      0.82     33761\n",
      "           1       0.88      0.91      0.89     22548\n",
      "           2       0.21      0.07      0.10      6402\n",
      "           3       0.11      0.04      0.06       885\n",
      "           4       0.41      0.35      0.38       708\n",
      "           5       0.02      0.00      0.01       319\n",
      "\n",
      "    accuracy                           0.78     64623\n",
      "   macro avg       0.40      0.37      0.38     64623\n",
      "weighted avg       0.74      0.78      0.76     64623\n",
      "\n",
      "\n",
      "\n",
      "accuracy score = 0.7849836745431193\n"
     ]
    }
   ],
   "source": [
    "# NOTE: 0=failed, 1=succeeded, 2=cancelled, 3=live, 4=undefined, 5=suspended\n",
    "print(confusion_matrix(y_test,pred_rfc))\n",
    "print('\\n')\n",
    "print(classification_report(y_test,pred_rfc))\n",
    "print('\\n')\n",
    "print(f'accuracy score = {accuracy_score(y_test,pred_rfc)}')"
   ]
  },
  {
   "cell_type": "markdown",
   "metadata": {},
   "source": [
    "Overall, the model did relatively well in its precision and recall rate, giving it an accuracy score of 78.5% and an f1-score of 76%.\n",
    "\n",
    "\n",
    "However, the precision and recall score for state 2-4 was poor. The most probable reason why is because of the low sample rate for those labels. Otherwise, state 0-1 had great precision and recall scores and probably would have done better without the noisy points from state 2-5."
   ]
  },
  {
   "cell_type": "code",
   "execution_count": 56,
   "metadata": {},
   "outputs": [
    {
     "data": {
      "text/plain": [
       "(6.0, 0.0)"
      ]
     },
     "execution_count": 56,
     "metadata": {},
     "output_type": "execute_result"
    },
    {
     "data": {
      "image/png": "[encoded data removed]",
      "text/plain": [
       "<Figure size 720x504 with 2 Axes>"
      ]
     },
     "metadata": {
      "needs_background": "light"
     },
     "output_type": "display_data"
    }
   ],
   "source": [
    "# Visualizing confusion matrix as heatmap\n",
    "plt.figure(figsize=(10,7))\n",
    "conmat = sns.heatmap(confusion_matrix(y_test,pred_rfc),annot=True,cmap='plasma')\n",
    "bottom, top = conmat.get_ylim()\n",
    "conmat.set_ylim(bottom + 0.5, top - 0.5)"
   ]
  },
  {
   "cell_type": "code",
   "execution_count": 57,
   "metadata": {},
   "outputs": [],
   "source": [
    "# Getting feature weights\n",
    "importance = grid.best_estimator_.feature_importances_\n",
    "impdf = pd.DataFrame(np.around(importance,4)*100,X.columns,['Importance'])\n",
    "# Summing up dummy variables into respective categories\n",
    "impdf.loc['Main Category'] = sum(importance[4:])*100"
   ]
  },
  {
   "cell_type": "code",
   "execution_count": 58,
   "metadata": {},
   "outputs": [
    {
     "data": {
      "text/html": [
       "<div>\n",
       "<style scoped>\n",
       "    .dataframe tbody tr th:only-of-type {\n",
       "        vertical-align: middle;\n",
       "    }\n",
       "\n",
       "    .dataframe tbody tr th {\n",
       "        vertical-align: top;\n",
       "    }\n",
       "\n",
       "    .dataframe thead th {\n",
       "        text-align: right;\n",
       "    }\n",
       "</style>\n",
       "<table border=\"1\" class=\"dataframe\">\n",
       "  <thead>\n",
       "    <tr style=\"text-align: right;\">\n",
       "      <th></th>\n",
       "      <th>Importance</th>\n",
       "    </tr>\n",
       "  </thead>\n",
       "  <tbody>\n",
       "    <tr>\n",
       "      <td>goal</td>\n",
       "      <td>23.650000</td>\n",
       "    </tr>\n",
       "    <tr>\n",
       "      <td>backers</td>\n",
       "      <td>53.340000</td>\n",
       "    </tr>\n",
       "    <tr>\n",
       "      <td>month launched</td>\n",
       "      <td>8.150000</td>\n",
       "    </tr>\n",
       "    <tr>\n",
       "      <td>total days</td>\n",
       "      <td>10.050000</td>\n",
       "    </tr>\n",
       "    <tr>\n",
       "      <td>Main Category</td>\n",
       "      <td>4.806883</td>\n",
       "    </tr>\n",
       "  </tbody>\n",
       "</table>\n",
       "</div>"
      ],
      "text/plain": [
       "                Importance\n",
       "goal             23.650000\n",
       "backers          53.340000\n",
       "month launched    8.150000\n",
       "total days       10.050000\n",
       "Main Category     4.806883"
      ]
     },
     "execution_count": 58,
     "metadata": {},
     "output_type": "execute_result"
    }
   ],
   "source": [
    "pd.concat([impdf[0:4],impdf[-1:]])"
   ]
  },
  {
   "cell_type": "code",
   "execution_count": null,
   "metadata": {},
   "outputs": [],
   "source": []
  }
 ],
 "metadata": {
  "kernelspec": {
   "display_name": "Python 3",
   "language": "python",
   "name": "python3"
  },
  "language_info": {
   "codemirror_mode": {
    "name": "ipython",
    "version": 3
   },
   "file_extension": ".py",
   "mimetype": "text/x-python",
   "name": "python",
   "nbconvert_exporter": "python",
   "pygments_lexer": "ipython3",
   "version": "3.7.4"
  }
 },
 "nbformat": 4,
 "nbformat_minor": 2
}
